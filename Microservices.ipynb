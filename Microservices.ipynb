{
 "cells": [
  {
   "cell_type": "markdown",
   "metadata": {},
   "source": [
    "Image: a blueprint for container, snapshot of container. image in made of layers. like template or package.\n",
    "Container: ready to roll applications from docker\n",
    "benefit: ready to use with all depencencies\n",
    "VM vs Containers: each VM has OS on it, hardware is virtualize -- container just virtualize OS\n",
    "We want to everybodies have the same setup. run apps anywhere anytime"
   ]
  },
  {
   "cell_type": "markdown",
   "metadata": {},
   "source": [
    "Difference between VMs and Containers"
   ]
  },
  {
   "cell_type": "markdown",
   "metadata": {},
   "source": [
    "First installations: \n",
    "We made a app.py with some code to link it with docker file. then in terminal we runed it and got the url that can be open in browser. in docker file: put syntanx one, from python download special image, define working directory, creating a copy from local directory to image directory. then copy and at last we run it to create the image. \n",
    "then to build docker image in terminal: \"docker buil --tag flask-docker .\" package everything from working directory. \n",
    "now we have the image ready and can be seen in the docker images and UI app.\n",
    "now we create a container with port forwarding \"docker run -p 5000:5000 flask-docker\"\n"
   ]
  },
  {
   "cell_type": "markdown",
   "metadata": {},
   "source": [
    "Flask: create web services - REM - RestAPI - built around requests & responses\n",
    "How web works: request is through web browser - a computer is receiving from browser, to ask for a homepage, or a html file, a requst can be anything. "
   ]
  },
  {
   "cell_type": "markdown",
   "metadata": {},
   "source": [
    "app = Flask(__name__) is a python variable, gives each file a unique name \n",
    "then a route decorator, then a method to retunr - RestAPIs usually return text in a specific format"
   ]
  },
  {
   "cell_type": "markdown",
   "metadata": {},
   "source": [
    "Web server: a piece of software designed to accept incoming web requests.\n",
    "Get request: GET(verb) /(path) HTTP(protocol) /1.1\n",
    "HTTP verbs:\n",
    "going to a page will always do a GET meanig a verb for retriving something, POST means receive and use it like a name, character, or we can add sth.\n",
    "PUT : make sure sth is there, to make sure an item is there, creat & update\n",
    "DELETE: remove sth"
   ]
  },
  {
   "cell_type": "markdown",
   "metadata": {},
   "source": [
    "HTTP -> URL -> JSON -> API -> Rest -> Set of rules to make API"
   ]
  },
  {
   "cell_type": "markdown",
   "metadata": {},
   "source": [
    "@app.route('/') #decorator - homepage\n",
    "def index():    # assign a method - response to request\n",
    "    return 'Hello from Sia!'\n",
    "\n",
    "app.run(port=5000)"
   ]
  },
  {
   "cell_type": "markdown",
   "metadata": {},
   "source": [
    "python3 -m venv venv\n",
    ". venv/bin/activate\n",
    "\n",
    "pip install Flask\n",
    "pip install Flask-SQLAlchemy\n",
    "\n",
    "export FLASK_APP=app.py\n",
    "export FLASK_ENV=development\n",
    "flask run\n"
   ]
  }
 ],
 "metadata": {
  "language_info": {
   "name": "python"
  },
  "orig_nbformat": 4
 },
 "nbformat": 4,
 "nbformat_minor": 2
}

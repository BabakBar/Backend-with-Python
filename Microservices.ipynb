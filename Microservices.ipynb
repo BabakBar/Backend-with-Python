{
 "cells": [
  {
   "cell_type": "markdown",
   "metadata": {},
   "source": [
    "Image: a blueprint for container, snapshot of container. image in made of layers. like template or package.\n",
    "Container: ready to roll applications from docker\n",
    "benefit: ready to use with all depencencies\n",
    "VM vs Containers: each VM has OS on it, hardware is virtualize -- container just virtualize OS\n",
    "We want to everybodies have the same setup. run apps anywhere anytime"
   ]
  },
  {
   "cell_type": "markdown",
   "metadata": {},
   "source": [
    "Difference between VMs and Containers"
   ]
  },
  {
   "cell_type": "markdown",
   "metadata": {},
   "source": [
    "First installations: \n",
    "We made a app.py with some code to link it with docker file. then in terminal we runed it and got the url that can be open in browser. in docker file: put syntanx one, from python download special image, define working directory, creating a copy from local directory to image directory. then copy and at last we run it to create the image. \n",
    "then to build docker image in terminal: \"docker buil --tag flask-docker .\" package everything from working directory. \n",
    "now we have the image ready and can be seen in the docker images and UI app.\n",
    "now we create a container with port forwarding \"docker run -p 5000:5000 flask-docker\"\n"
   ]
  },
  {
   "cell_type": "markdown",
   "metadata": {},
   "source": [
    "Flask: create web services - REM - RestAPI - built around requests & responses\n",
    "How web works: "
   ]
  }
 ],
 "metadata": {
  "language_info": {
   "name": "python"
  },
  "orig_nbformat": 4
 },
 "nbformat": 4,
 "nbformat_minor": 2
}
